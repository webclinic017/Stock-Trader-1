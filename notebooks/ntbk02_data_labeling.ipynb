{
 "cells": [
  {
   "cell_type": "code",
   "execution_count": null,
   "id": "d8e1f566",
   "metadata": {},
   "outputs": [],
   "source": [
    "import os, sys\n",
    "sys.path.append('../src/')\n",
    "from datetime import datetime\n",
    "\n",
    "import matplotlib.pyplot as plt\n",
    "import numpy as np\n",
    "import pandas as pd\n",
    "\n",
    "import data.dataset as dtst\n",
    "import features.preprocessing as prep\n",
    "import visualization.visualize as vis\n",
    "\n",
    "np.random.seed(42)"
   ]
  },
  {
   "cell_type": "code",
   "execution_count": null,
   "id": "fb00a374",
   "metadata": {},
   "outputs": [],
   "source": [
    "stocks_interim_folderpath = '../data/interim/stocks'\n",
    "\n",
    "n_files_train = 4000\n",
    "selected_files = np.random.choice(os.listdir(stocks_interim_folderpath), n_files_train)\n",
    "\n",
    "# selected_files = np.array(['CAAP.csv', 'UBG.csv', 'TM.csv', 'THFF.csv', 'NREF.csv', 'LEE.csv',\n",
    "#                            'WRLSU.csv', 'AU.csv', 'TTM.csv', 'RBCAA.csv'])\n",
    "\n",
    "# selected_files"
   ]
  },
  {
   "cell_type": "code",
   "execution_count": null,
   "id": "5a4b4dc4",
   "metadata": {},
   "outputs": [],
   "source": [
    "stocks_data_train = dtst.load_rawdata(stocks_interim_folderpath, selected_files=selected_files)\n",
    "print(\"Number of assets:\", len(stocks_data_train))\n",
    "stocks_data_train.keys()"
   ]
  },
  {
   "cell_type": "code",
   "execution_count": null,
   "id": "b2432e21",
   "metadata": {},
   "outputs": [],
   "source": [
    "stocks_data_train[list(stocks_data_train.keys())[0]]"
   ]
  },
  {
   "cell_type": "code",
   "execution_count": null,
   "id": "f2a5dc02",
   "metadata": {},
   "outputs": [],
   "source": [
    "vis.plot_assets_timeline(stocks_data_train, subplotsize=(14, 2))"
   ]
  },
  {
   "cell_type": "code",
   "execution_count": null,
   "id": "4cce40a2",
   "metadata": {},
   "outputs": [],
   "source": [
    "un_selected_files = np.array(os.listdir(stocks_interim_folderpath))\n",
    "un_selected_files = un_selected_files[~np.isin(un_selected_files, selected_files)]\n",
    "# un_selected_files = un_selected_files[0:50]"
   ]
  },
  {
   "cell_type": "code",
   "execution_count": null,
   "id": "44364296",
   "metadata": {},
   "outputs": [],
   "source": [
    "stocks_data_test = dtst.load_rawdata(stocks_interim_folderpath, selected_files=un_selected_files)\n",
    "print(\"Number of assets:\", len(stocks_data_test))\n",
    "stocks_data_test.keys()"
   ]
  },
  {
   "cell_type": "code",
   "execution_count": null,
   "id": "721f60fd",
   "metadata": {},
   "outputs": [],
   "source": []
  },
  {
   "cell_type": "markdown",
   "id": "79b405f9",
   "metadata": {},
   "source": [
    "# Labelling the stock trend"
   ]
  },
  {
   "cell_type": "code",
   "execution_count": null,
   "id": "3264d219",
   "metadata": {},
   "outputs": [],
   "source": [
    "price_ref_col = 'Close'\n",
    "n_samples_min = 3000"
   ]
  },
  {
   "cell_type": "code",
   "execution_count": null,
   "id": "99070e9a",
   "metadata": {},
   "outputs": [],
   "source": [
    "# Labelling the train dataset:\n",
    "stocks_data_train_keys = list(stocks_data_train.keys())\n",
    "for key in stocks_data_train_keys:\n",
    "    df = stocks_data_train[key]\n",
    "    if df.shape[0] > n_samples_min:\n",
    "        df['y_target'] = dtst.trend_labeling(df, price_ref_col, key, figsize=(14, 8), plot_results=True)\n",
    "        df['ticker'] = key\n",
    "        stocks_data_train[key] = df\n",
    "    else:\n",
    "        del stocks_data_train[key]"
   ]
  },
  {
   "cell_type": "code",
   "execution_count": null,
   "id": "a107f36c",
   "metadata": {},
   "outputs": [],
   "source": []
  },
  {
   "cell_type": "code",
   "execution_count": null,
   "id": "439b19aa",
   "metadata": {},
   "outputs": [],
   "source": [
    "# Labelling the test dataset:\n",
    "stocks_data_test_keys = list(stocks_data_test.keys())\n",
    "for key in stocks_data_test_keys:\n",
    "    df = stocks_data_test[key]\n",
    "    if df.shape[0] > n_samples_min:\n",
    "        df['y_target'] = dtst.trend_labeling(df, price_ref_col, key, figsize=(14, 8), plot_results=False)\n",
    "        df['ticker'] = key\n",
    "        stocks_data_test[key] = df\n",
    "    else:\n",
    "        del stocks_data_test[key]"
   ]
  },
  {
   "cell_type": "code",
   "execution_count": null,
   "id": "cf54be2d",
   "metadata": {},
   "outputs": [],
   "source": []
  },
  {
   "cell_type": "code",
   "execution_count": null,
   "id": "55472a5b",
   "metadata": {},
   "outputs": [],
   "source": [
    "# Saving the processed data:\n",
    "stocks_processed_folderpath = '../data/processed'\n",
    "for key,data in stocks_data_train.items():\n",
    "    data.to_csv(f'{stocks_processed_folderpath}/train/{key}.csv', index=False)\n",
    "for key,data in stocks_data_test.items():\n",
    "    data.to_csv(f'{stocks_processed_folderpath}/test/{key}.csv', index=False)"
   ]
  },
  {
   "cell_type": "code",
   "execution_count": null,
   "id": "3b2bb022",
   "metadata": {},
   "outputs": [],
   "source": [
    "print(\"Train data samples:\", len(stocks_data_train))\n",
    "print(\"Test data samples:\", len(stocks_data_test))"
   ]
  },
  {
   "cell_type": "code",
   "execution_count": null,
   "id": "d582f16b",
   "metadata": {},
   "outputs": [],
   "source": []
  }
 ],
 "metadata": {
  "kernelspec": {
   "display_name": "Python 3",
   "language": "python",
   "name": "python3"
  },
  "language_info": {
   "codemirror_mode": {
    "name": "ipython",
    "version": 3
   },
   "file_extension": ".py",
   "mimetype": "text/x-python",
   "name": "python",
   "nbconvert_exporter": "python",
   "pygments_lexer": "ipython3",
   "version": "3.8.5"
  }
 },
 "nbformat": 4,
 "nbformat_minor": 5
}
